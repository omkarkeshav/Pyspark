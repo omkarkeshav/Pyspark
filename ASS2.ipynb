{
 "cells": [
  {
   "cell_type": "markdown",
   "id": "cffe95d5",
   "metadata": {},
   "source": [
    "Read file and handle corrupt data (not fitting the schema defined) - write the corrupt records to a separate file."
   ]
  },
  {
   "cell_type": "code",
   "execution_count": 1,
   "id": "f300c40e",
   "metadata": {},
   "outputs": [
    {
     "data": {
      "application/javascript": [
       "\n",
       "            setTimeout(function() {\n",
       "                var nbb_cell_id = 1;\n",
       "                var nbb_unformatted_code = \"%load_ext nb_black\";\n",
       "                var nbb_formatted_code = \"%load_ext nb_black\";\n",
       "                var nbb_cells = Jupyter.notebook.get_cells();\n",
       "                for (var i = 0; i < nbb_cells.length; ++i) {\n",
       "                    if (nbb_cells[i].input_prompt_number == nbb_cell_id) {\n",
       "                        if (nbb_cells[i].get_text() == nbb_unformatted_code) {\n",
       "                             nbb_cells[i].set_text(nbb_formatted_code);\n",
       "                        }\n",
       "                        break;\n",
       "                    }\n",
       "                }\n",
       "            }, 500);\n",
       "            "
      ],
      "text/plain": [
       "<IPython.core.display.Javascript object>"
      ]
     },
     "metadata": {},
     "output_type": "display_data"
    }
   ],
   "source": [
    "%load_ext nb_black"
   ]
  },
  {
   "cell_type": "code",
   "execution_count": 2,
   "id": "f5fd1c48",
   "metadata": {},
   "outputs": [
    {
     "data": {
      "application/javascript": [
       "\n",
       "            setTimeout(function() {\n",
       "                var nbb_cell_id = 2;\n",
       "                var nbb_unformatted_code = \"from pyspark import SparkConf\\nfrom pyspark.sql import SparkSession\\nfrom pyspark.sql.functions import *\\nfrom pyspark.sql.types import *\\nimport pandas as pd\";\n",
       "                var nbb_formatted_code = \"from pyspark import SparkConf\\nfrom pyspark.sql import SparkSession\\nfrom pyspark.sql.functions import *\\nfrom pyspark.sql.types import *\\nimport pandas as pd\";\n",
       "                var nbb_cells = Jupyter.notebook.get_cells();\n",
       "                for (var i = 0; i < nbb_cells.length; ++i) {\n",
       "                    if (nbb_cells[i].input_prompt_number == nbb_cell_id) {\n",
       "                        if (nbb_cells[i].get_text() == nbb_unformatted_code) {\n",
       "                             nbb_cells[i].set_text(nbb_formatted_code);\n",
       "                        }\n",
       "                        break;\n",
       "                    }\n",
       "                }\n",
       "            }, 500);\n",
       "            "
      ],
      "text/plain": [
       "<IPython.core.display.Javascript object>"
      ]
     },
     "metadata": {},
     "output_type": "display_data"
    }
   ],
   "source": [
    "from pyspark import SparkConf\n",
    "from pyspark.sql import SparkSession\n",
    "from pyspark.sql.functions import *\n",
    "from pyspark.sql.types import *\n",
    "import pandas as pd"
   ]
  },
  {
   "cell_type": "code",
   "execution_count": 3,
   "id": "178e9172",
   "metadata": {},
   "outputs": [
    {
     "data": {
      "application/javascript": [
       "\n",
       "            setTimeout(function() {\n",
       "                var nbb_cell_id = 3;\n",
       "                var nbb_unformatted_code = \"if __name__ == \\\"__main__\\\":\\n    conf = SparkConf().setMaster(\\\"local[3]\\\").setAppName(\\\"MyFirstTry\\\")\\n    spark = SparkSession.builder.config(conf=conf).getOrCreate()\";\n",
       "                var nbb_formatted_code = \"if __name__ == \\\"__main__\\\":\\n    conf = SparkConf().setMaster(\\\"local[3]\\\").setAppName(\\\"MyFirstTry\\\")\\n    spark = SparkSession.builder.config(conf=conf).getOrCreate()\";\n",
       "                var nbb_cells = Jupyter.notebook.get_cells();\n",
       "                for (var i = 0; i < nbb_cells.length; ++i) {\n",
       "                    if (nbb_cells[i].input_prompt_number == nbb_cell_id) {\n",
       "                        if (nbb_cells[i].get_text() == nbb_unformatted_code) {\n",
       "                             nbb_cells[i].set_text(nbb_formatted_code);\n",
       "                        }\n",
       "                        break;\n",
       "                    }\n",
       "                }\n",
       "            }, 500);\n",
       "            "
      ],
      "text/plain": [
       "<IPython.core.display.Javascript object>"
      ]
     },
     "metadata": {},
     "output_type": "display_data"
    }
   ],
   "source": [
    "if __name__ == \"__main__\":\n",
    "    conf = SparkConf().setMaster(\"local[3]\").setAppName(\"MyFirstTry\")\n",
    "    spark = SparkSession.builder.config(conf=conf).getOrCreate()"
   ]
  },
  {
   "cell_type": "code",
   "execution_count": 4,
   "id": "5f9f144f",
   "metadata": {},
   "outputs": [
    {
     "data": {
      "application/javascript": [
       "\n",
       "            setTimeout(function() {\n",
       "                var nbb_cell_id = 4;\n",
       "                var nbb_unformatted_code = \"schema = StructType(\\n    [\\n        StructField(\\\"id\\\", IntegerType(), True),\\n        StructField(\\\"firstname\\\", StringType(), True),\\n        StructField(\\\"lastname\\\", StringType(), True),\\n        StructField(\\\"gender\\\", StringType(), True),\\n        StructField(\\\"salary\\\", IntegerType(), True),\\n    ]\\n)\";\n",
       "                var nbb_formatted_code = \"schema = StructType(\\n    [\\n        StructField(\\\"id\\\", IntegerType(), True),\\n        StructField(\\\"firstname\\\", StringType(), True),\\n        StructField(\\\"lastname\\\", StringType(), True),\\n        StructField(\\\"gender\\\", StringType(), True),\\n        StructField(\\\"salary\\\", IntegerType(), True),\\n    ]\\n)\";\n",
       "                var nbb_cells = Jupyter.notebook.get_cells();\n",
       "                for (var i = 0; i < nbb_cells.length; ++i) {\n",
       "                    if (nbb_cells[i].input_prompt_number == nbb_cell_id) {\n",
       "                        if (nbb_cells[i].get_text() == nbb_unformatted_code) {\n",
       "                             nbb_cells[i].set_text(nbb_formatted_code);\n",
       "                        }\n",
       "                        break;\n",
       "                    }\n",
       "                }\n",
       "            }, 500);\n",
       "            "
      ],
      "text/plain": [
       "<IPython.core.display.Javascript object>"
      ]
     },
     "metadata": {},
     "output_type": "display_data"
    }
   ],
   "source": [
    "schema = StructType(\n",
    "    [\n",
    "        StructField(\"id\", IntegerType(), True),\n",
    "        StructField(\"firstname\", StringType(), True),\n",
    "        StructField(\"lastname\", StringType(), True),\n",
    "        StructField(\"gender\", StringType(), True),\n",
    "        StructField(\"salary\", IntegerType(), True),\n",
    "    ]\n",
    ")"
   ]
  },
  {
   "cell_type": "code",
   "execution_count": 18,
   "id": "63bc3753",
   "metadata": {},
   "outputs": [
    {
     "data": {
      "application/javascript": [
       "\n",
       "            setTimeout(function() {\n",
       "                var nbb_cell_id = 18;\n",
       "                var nbb_unformatted_code = \"data = [\\n    (1, \\\"James\\\", \\\"Smith\\\", \\\"M\\\", 3000),\\n    (2, \\\"Michael\\\", \\\"Rose\\\", \\\"M\\\", 4000),\\n    (3, \\\"Robert\\\", \\\"Williams\\\", \\\"M\\\", 4000),\\n    (4, \\\"Maria\\\", \\\"Anne\\\", \\\"F\\\", 5000),\\n    (5, \\\"Jen\\\", \\\"Mary\\\", \\\"F\\\", 2000),\\n]\";\n",
       "                var nbb_formatted_code = \"data = [\\n    (1, \\\"James\\\", \\\"Smith\\\", \\\"M\\\", 3000),\\n    (2, \\\"Michael\\\", \\\"Rose\\\", \\\"M\\\", 4000),\\n    (3, \\\"Robert\\\", \\\"Williams\\\", \\\"M\\\", 4000),\\n    (4, \\\"Maria\\\", \\\"Anne\\\", \\\"F\\\", 5000),\\n    (5, \\\"Jen\\\", \\\"Mary\\\", \\\"F\\\", 2000),\\n]\";\n",
       "                var nbb_cells = Jupyter.notebook.get_cells();\n",
       "                for (var i = 0; i < nbb_cells.length; ++i) {\n",
       "                    if (nbb_cells[i].input_prompt_number == nbb_cell_id) {\n",
       "                        if (nbb_cells[i].get_text() == nbb_unformatted_code) {\n",
       "                             nbb_cells[i].set_text(nbb_formatted_code);\n",
       "                        }\n",
       "                        break;\n",
       "                    }\n",
       "                }\n",
       "            }, 500);\n",
       "            "
      ],
      "text/plain": [
       "<IPython.core.display.Javascript object>"
      ]
     },
     "metadata": {},
     "output_type": "display_data"
    }
   ],
   "source": [
    "data = [\n",
    "    (1, \"James\", \"Smith\", \"M\", 3000),\n",
    "    (2, \"Michael\", \"Rose\", \"M\", 4000),\n",
    "    (3, \"Robert\", \"Williams\", \"M\", 4000),\n",
    "    (4, \"Maria\", \"Anne\", \"F\", 5000),\n",
    "    (5, \"Jen\", \"Mary\", \"F\", 2000),\n",
    "]"
   ]
  },
  {
   "cell_type": "code",
   "execution_count": 19,
   "id": "4f771de0",
   "metadata": {},
   "outputs": [
    {
     "data": {
      "application/javascript": [
       "\n",
       "            setTimeout(function() {\n",
       "                var nbb_cell_id = 19;\n",
       "                var nbb_unformatted_code = \"abDF = spark.createDataFrame(data=data, schema=schema)\";\n",
       "                var nbb_formatted_code = \"abDF = spark.createDataFrame(data=data, schema=schema)\";\n",
       "                var nbb_cells = Jupyter.notebook.get_cells();\n",
       "                for (var i = 0; i < nbb_cells.length; ++i) {\n",
       "                    if (nbb_cells[i].input_prompt_number == nbb_cell_id) {\n",
       "                        if (nbb_cells[i].get_text() == nbb_unformatted_code) {\n",
       "                             nbb_cells[i].set_text(nbb_formatted_code);\n",
       "                        }\n",
       "                        break;\n",
       "                    }\n",
       "                }\n",
       "            }, 500);\n",
       "            "
      ],
      "text/plain": [
       "<IPython.core.display.Javascript object>"
      ]
     },
     "metadata": {},
     "output_type": "display_data"
    }
   ],
   "source": [
    "abDF = spark.createDataFrame(data=data, schema=schema)"
   ]
  },
  {
   "cell_type": "code",
   "execution_count": 20,
   "id": "85168259",
   "metadata": {},
   "outputs": [
    {
     "name": "stdout",
     "output_type": "stream",
     "text": [
      "root\n",
      " |-- id: integer (nullable = true)\n",
      " |-- firstname: string (nullable = true)\n",
      " |-- lastname: string (nullable = true)\n",
      " |-- gender: string (nullable = true)\n",
      " |-- salary: integer (nullable = true)\n",
      "\n"
     ]
    },
    {
     "data": {
      "application/javascript": [
       "\n",
       "            setTimeout(function() {\n",
       "                var nbb_cell_id = 20;\n",
       "                var nbb_unformatted_code = \"abDF.printSchema()\";\n",
       "                var nbb_formatted_code = \"abDF.printSchema()\";\n",
       "                var nbb_cells = Jupyter.notebook.get_cells();\n",
       "                for (var i = 0; i < nbb_cells.length; ++i) {\n",
       "                    if (nbb_cells[i].input_prompt_number == nbb_cell_id) {\n",
       "                        if (nbb_cells[i].get_text() == nbb_unformatted_code) {\n",
       "                             nbb_cells[i].set_text(nbb_formatted_code);\n",
       "                        }\n",
       "                        break;\n",
       "                    }\n",
       "                }\n",
       "            }, 500);\n",
       "            "
      ],
      "text/plain": [
       "<IPython.core.display.Javascript object>"
      ]
     },
     "metadata": {},
     "output_type": "display_data"
    }
   ],
   "source": [
    "abDF.printSchema()"
   ]
  },
  {
   "cell_type": "code",
   "execution_count": 21,
   "id": "3a79afd5",
   "metadata": {},
   "outputs": [
    {
     "name": "stdout",
     "output_type": "stream",
     "text": [
      "+---+---------+--------+------+------+\n",
      "| id|firstname|lastname|gender|salary|\n",
      "+---+---------+--------+------+------+\n",
      "|  1|    James|   Smith|     M|  3000|\n",
      "|  2|  Michael|    Rose|     M|  4000|\n",
      "|  3|   Robert|Williams|     M|  4000|\n",
      "|  4|    Maria|    Anne|     F|  5000|\n",
      "|  5|      Jen|    Mary|     F|  2000|\n",
      "+---+---------+--------+------+------+\n",
      "\n"
     ]
    },
    {
     "data": {
      "application/javascript": [
       "\n",
       "            setTimeout(function() {\n",
       "                var nbb_cell_id = 21;\n",
       "                var nbb_unformatted_code = \"abDF.show()\";\n",
       "                var nbb_formatted_code = \"abDF.show()\";\n",
       "                var nbb_cells = Jupyter.notebook.get_cells();\n",
       "                for (var i = 0; i < nbb_cells.length; ++i) {\n",
       "                    if (nbb_cells[i].input_prompt_number == nbb_cell_id) {\n",
       "                        if (nbb_cells[i].get_text() == nbb_unformatted_code) {\n",
       "                             nbb_cells[i].set_text(nbb_formatted_code);\n",
       "                        }\n",
       "                        break;\n",
       "                    }\n",
       "                }\n",
       "            }, 500);\n",
       "            "
      ],
      "text/plain": [
       "<IPython.core.display.Javascript object>"
      ]
     },
     "metadata": {},
     "output_type": "display_data"
    }
   ],
   "source": [
    "abDF.show()"
   ]
  },
  {
   "cell_type": "code",
   "execution_count": 9,
   "id": "100f2fdc",
   "metadata": {},
   "outputs": [
    {
     "data": {
      "application/javascript": [
       "\n",
       "            setTimeout(function() {\n",
       "                var nbb_cell_id = 9;\n",
       "                var nbb_unformatted_code = \"abDF.toPandas().to_csv(\\n    \\\"C:/Users/ochandrakantkesha/Desktop/Vanguard Project/Assignment/data2.csv\\\",\\n    index=False,\\n)\";\n",
       "                var nbb_formatted_code = \"abDF.toPandas().to_csv(\\n    \\\"C:/Users/ochandrakantkesha/Desktop/Vanguard Project/Assignment/data2.csv\\\",\\n    index=False,\\n)\";\n",
       "                var nbb_cells = Jupyter.notebook.get_cells();\n",
       "                for (var i = 0; i < nbb_cells.length; ++i) {\n",
       "                    if (nbb_cells[i].input_prompt_number == nbb_cell_id) {\n",
       "                        if (nbb_cells[i].get_text() == nbb_unformatted_code) {\n",
       "                             nbb_cells[i].set_text(nbb_formatted_code);\n",
       "                        }\n",
       "                        break;\n",
       "                    }\n",
       "                }\n",
       "            }, 500);\n",
       "            "
      ],
      "text/plain": [
       "<IPython.core.display.Javascript object>"
      ]
     },
     "metadata": {},
     "output_type": "display_data"
    }
   ],
   "source": [
    "abDF.toPandas().to_csv(\n",
    "    \"C:/Users/ochandrakantkesha/Desktop/Vanguard Project/Assignment/data2.csv\",\n",
    "    index=False,\n",
    ")"
   ]
  },
  {
   "cell_type": "code",
   "execution_count": 24,
   "id": "a7fa3f48",
   "metadata": {},
   "outputs": [
    {
     "data": {
      "application/javascript": [
       "\n",
       "            setTimeout(function() {\n",
       "                var nbb_cell_id = 24;\n",
       "                var nbb_unformatted_code = \"DF = (\\n    spark.read.format(\\\"csv\\\")\\n    .options(header=\\\"true\\\", inferschema=\\\"true\\\", truncate=\\\"true\\\")\\n    .option(\\\"mode\\\", \\\"PERMISSIVE\\\")\\n    .load(\\\"C:/Users/ochandrakantkesha/Desktop/Vanguard Project/Assignment/data2.csv\\\")\\n)\";\n",
       "                var nbb_formatted_code = \"DF = (\\n    spark.read.format(\\\"csv\\\")\\n    .options(header=\\\"true\\\", inferschema=\\\"true\\\", truncate=\\\"true\\\")\\n    .option(\\\"mode\\\", \\\"PERMISSIVE\\\")\\n    .load(\\\"C:/Users/ochandrakantkesha/Desktop/Vanguard Project/Assignment/data2.csv\\\")\\n)\";\n",
       "                var nbb_cells = Jupyter.notebook.get_cells();\n",
       "                for (var i = 0; i < nbb_cells.length; ++i) {\n",
       "                    if (nbb_cells[i].input_prompt_number == nbb_cell_id) {\n",
       "                        if (nbb_cells[i].get_text() == nbb_unformatted_code) {\n",
       "                             nbb_cells[i].set_text(nbb_formatted_code);\n",
       "                        }\n",
       "                        break;\n",
       "                    }\n",
       "                }\n",
       "            }, 500);\n",
       "            "
      ],
      "text/plain": [
       "<IPython.core.display.Javascript object>"
      ]
     },
     "metadata": {},
     "output_type": "display_data"
    }
   ],
   "source": [
    "DF = (\n",
    "    spark.read.format(\"csv\")\n",
    "    .options(header=\"true\", inferschema=\"true\", truncate=\"true\")\n",
    "    .option(\"mode\", \"PERMISSIVE\")\n",
    "    .load(\"C:/Users/ochandrakantkesha/Desktop/Vanguard Project/Assignment/data2.csv\")\n",
    ")"
   ]
  },
  {
   "cell_type": "code",
   "execution_count": 25,
   "id": "77054847",
   "metadata": {},
   "outputs": [
    {
     "name": "stdout",
     "output_type": "stream",
     "text": [
      "+---+---------+--------+------+------+\n",
      "| id|firstname|lastname|gender|salary|\n",
      "+---+---------+--------+------+------+\n",
      "|  1|    James|   Smith|     M|  3000|\n",
      "|  2|  Michael|Williams|     M|  4000|\n",
      "|  3|   Robert|Williams|     M|  4000|\n",
      "|  4|    Maria|    Anne|     F|  5000|\n",
      "|  5|      Jen|    Mary|     F|  2000|\n",
      "+---+---------+--------+------+------+\n",
      "\n"
     ]
    },
    {
     "data": {
      "application/javascript": [
       "\n",
       "            setTimeout(function() {\n",
       "                var nbb_cell_id = 25;\n",
       "                var nbb_unformatted_code = \"DF.show()\";\n",
       "                var nbb_formatted_code = \"DF.show()\";\n",
       "                var nbb_cells = Jupyter.notebook.get_cells();\n",
       "                for (var i = 0; i < nbb_cells.length; ++i) {\n",
       "                    if (nbb_cells[i].input_prompt_number == nbb_cell_id) {\n",
       "                        if (nbb_cells[i].get_text() == nbb_unformatted_code) {\n",
       "                             nbb_cells[i].set_text(nbb_formatted_code);\n",
       "                        }\n",
       "                        break;\n",
       "                    }\n",
       "                }\n",
       "            }, 500);\n",
       "            "
      ],
      "text/plain": [
       "<IPython.core.display.Javascript object>"
      ]
     },
     "metadata": {},
     "output_type": "display_data"
    }
   ],
   "source": [
    "DF.show()"
   ]
  },
  {
   "cell_type": "code",
   "execution_count": 26,
   "id": "b8019a29",
   "metadata": {},
   "outputs": [
    {
     "name": "stdout",
     "output_type": "stream",
     "text": [
      "root\n",
      " |-- id: integer (nullable = true)\n",
      " |-- firstname: string (nullable = true)\n",
      " |-- lastname: string (nullable = true)\n",
      " |-- gender: string (nullable = true)\n",
      " |-- salary: integer (nullable = true)\n",
      "\n"
     ]
    },
    {
     "data": {
      "application/javascript": [
       "\n",
       "            setTimeout(function() {\n",
       "                var nbb_cell_id = 26;\n",
       "                var nbb_unformatted_code = \"DF.printSchema()\";\n",
       "                var nbb_formatted_code = \"DF.printSchema()\";\n",
       "                var nbb_cells = Jupyter.notebook.get_cells();\n",
       "                for (var i = 0; i < nbb_cells.length; ++i) {\n",
       "                    if (nbb_cells[i].input_prompt_number == nbb_cell_id) {\n",
       "                        if (nbb_cells[i].get_text() == nbb_unformatted_code) {\n",
       "                             nbb_cells[i].set_text(nbb_formatted_code);\n",
       "                        }\n",
       "                        break;\n",
       "                    }\n",
       "                }\n",
       "            }, 500);\n",
       "            "
      ],
      "text/plain": [
       "<IPython.core.display.Javascript object>"
      ]
     },
     "metadata": {},
     "output_type": "display_data"
    }
   ],
   "source": [
    "DF.printSchema()"
   ]
  },
  {
   "cell_type": "code",
   "execution_count": null,
   "id": "c5382e8e",
   "metadata": {},
   "outputs": [],
   "source": []
  }
 ],
 "metadata": {
  "kernelspec": {
   "display_name": "Python 3",
   "language": "python",
   "name": "python3"
  },
  "language_info": {
   "codemirror_mode": {
    "name": "ipython",
    "version": 3
   },
   "file_extension": ".py",
   "mimetype": "text/x-python",
   "name": "python",
   "nbconvert_exporter": "python",
   "pygments_lexer": "ipython3",
   "version": "3.7.0"
  }
 },
 "nbformat": 4,
 "nbformat_minor": 5
}
